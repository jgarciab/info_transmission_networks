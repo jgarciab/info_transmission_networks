{
 "cells": [
  {
   "cell_type": "code",
   "execution_count": null,
   "id": "59587837-7504-4959-8c54-cc2e0b2e5ef3",
   "metadata": {},
   "outputs": [],
   "source": [
    "#def accept(input_list, response):\n",
    "def attention_check(read_text, response):\n",
    "    # Participant didn't write anything\n",
    "    if len(response) == 0:\n",
    "        return False\n",
    "\n",
    "    # Participant wrote too much and it might crash\n",
    "    if len(response) > 3000:\n",
    "        return False\n",
    "\n",
    "    len_input = sum([len(_) for _ in read_text])/len(read_text)\n",
    "    jac_sim = calculate_jaccard_sim(read_text, response)\n",
    "    sentence_sim = calculate_sentence_sim(read_text,response)\n",
    "    print(len_input, sentence_sim, jac_sim)\n",
    "    # Small input, avoid nonsensical\n",
    "    if len_input < 150:\n",
    "        if (sentence_sim < 0.4):\n",
    "            return False\n",
    "    else:\n",
    "        # Every generation avoid C&P sentences or nonsensical\n",
    "        if (sentence_sim < 0.4) | \\\n",
    "            (sentence_sim > 0.7) | \\\n",
    "            (jac_sim < 0.03):\n",
    "            return False\n",
    "    return True\n"
   ]
  }
 ],
 "metadata": {
  "kernelspec": {
   "display_name": "Python 3 (ipykernel)",
   "language": "python",
   "name": "python3"
  },
  "language_info": {
   "codemirror_mode": {
    "name": "ipython",
    "version": 3
   },
   "file_extension": ".py",
   "mimetype": "text/x-python",
   "name": "python",
   "nbconvert_exporter": "python",
   "pygments_lexer": "ipython3",
   "version": "3.9.15"
  }
 },
 "nbformat": 4,
 "nbformat_minor": 5
}
