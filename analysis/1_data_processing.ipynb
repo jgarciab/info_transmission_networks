{
 "cells": [
  {
   "cell_type": "code",
   "execution_count": 1,
   "id": "59a98f1d-6935-48ca-90c0-c4c592f82153",
   "metadata": {},
   "outputs": [],
   "source": [
    "import pandas as pd\n",
    "pd.options.mode.chained_assignment = None  # default='warn'\n",
    "import numpy as np"
   ]
  },
  {
   "cell_type": "code",
   "execution_count": 6,
   "id": "e2ea6607-30dd-41d0-b79d-64f5a52beab4",
   "metadata": {},
   "outputs": [
    {
     "name": "stdout",
     "output_type": "stream",
     "text": [
      "The autoreload extension is already loaded. To reload it, use:\n",
      "  %reload_ext autoreload\n"
     ]
    }
   ],
   "source": [
    "# Story definition\n",
    "from common_variables import *\n",
    "\n",
    "\n",
    "# All functions for text analysis are in this script, load when code is run\n",
    "%load_ext autoreload\n",
    "%autoreload 1\n",
    "%aimport common_functions\n",
    "\n",
    "from common_data_processing import *\n"
   ]
  },
  {
   "cell_type": "code",
   "execution_count": null,
   "id": "4cca582a-b228-4eff-9aaf-f7b176212d56",
   "metadata": {},
   "outputs": [],
   "source": []
  },
  {
   "cell_type": "markdown",
   "id": "7372c6a0-ad5b-4ff3-97bf-d5c32fc85336",
   "metadata": {},
   "source": [
    "# 1. Clean up data from Heroku"
   ]
  },
  {
   "cell_type": "code",
   "execution_count": 7,
   "id": "06401ef6-99de-4229-8c0a-dc92545f4e42",
   "metadata": {},
   "outputs": [],
   "source": [
    "# Read the data\n",
    "exp = pd.read_csv(path_final_data)\n",
    "\n",
    "# Separate into chain and network\n",
    "chain_exp = exp.loc[exp[\"network_type\"] == \"chain\"]\n",
    "chain_exp[\"replication\"] = chain_exp[\"transmission_id\"] #replication is not unique, use \"transmission_id\" as ID\n",
    "\n",
    "network_exp = exp.loc[exp[\"network_type\"] == \"network\"]\n",
    "\n",
    "\n",
    "# Clean data\n",
    "process_file(chain_exp,f'{path_data_files}/data_processing/cleaned_chain_exp.csv',chain=True)\n",
    "process_file(network_exp,f'{path_data_files}/data_processing/cleaned_network_exp.csv',chain=False)\n",
    "\n",
    "# Read and concatenate again\n",
    "network_exp = pd.read_csv(f\"{path_data_files}/data_processing/cleaned_network_exp.csv\",sep=\"\\t\")\n",
    "network_exp[\"condition\"] = \"Network\"\n",
    "\n",
    "chain_exp = pd.read_csv(f\"{path_data_files}/data_processing/cleaned_chain_exp.csv\",sep=\"\\t\")\n",
    "chain_exp[\"condition\"] = \"Chain\"\n",
    "results = pd.concat([network_exp, chain_exp])\n",
    "results = results.reset_index(drop=True)\n",
    "results = results.sort_values(by=[\"condition\",\"rep\",\"layer_n\"],ascending=[False, True, True])\n"
   ]
  },
  {
   "cell_type": "code",
   "execution_count": 8,
   "id": "24e9791c-0e15-46d7-a2c2-1de0e54ec2d1",
   "metadata": {},
   "outputs": [
    {
     "name": "stdout",
     "output_type": "stream",
     "text": [
      "864\n"
     ]
    },
    {
     "data": {
      "text/plain": [
       "array([[1, '0-1',\n",
       "        'Its long been known that drawing something helps a person remember it. a new study shows that drawing is superior to activities such as reading or writing because it forces the person to process information in multiple ways; visually, kinesthetically, and semantically. across a series of experiments, researchers found drawing information to be a powerful way to boost memory, increasing recall by nearly double. Myra Fernandes, Jeffrey Warms, and Melissa Meade are experts in the science of memory  how people encode, retain, and recall information. at the university of waterloo, they conducted experiments to better understand how activities such as writing, looking at pictures, listening to lectures, drawing, and visualizing images affect a students ability to remember information. in an early experiment, they asked undergraduate students to study lists of common terms words like truck and pear and then either writes down or illustrate those words.'],\n",
       "       [2, '0-1',\n",
       "        'Drawing something helps people remember it.  Drawing is better than reading or writing because it causes a person to process information in many different ways.  Drawing has been found to increase memory and recall.  Researchers conducted experiments with university students where they asked them to process information in different ways, (reading, writing, drawing, and looking at pictures).'],\n",
       "       [3, '0-1',\n",
       "        \"By drawing certain things, people  can remember them better than if they were to read or write it. Based on research and experiments, drawing has been shown to increase people's ability to remember things.\"],\n",
       "       [4, '0-1',\n",
       "        'by drawing things, people can better remember things than reading and writing.'],\n",
       "       [5, '0-1',\n",
       "        'By drawing, people can better remember what they read in a text'],\n",
       "       [6, '0-1',\n",
       "        'Taking the time to draw out the details of a person makes it easier to remember the details in their features for the future.'],\n",
       "       [1, '4-0',\n",
       "        \"During the history of mankind, people did not live a long life and that it was because of events that caused a premature death such as being attacked by wild animals or dead causing injuries during the industrial revolution. With time and help of science there was the invention of penicillin or antibiotics that helped fight against infections. Population started living longer, however there is a resistance against antibiotics as there is a continuous race to develop antibiotics for each infection causing bacteria. With time the more the antibiotics are used the more trained is getting the bacteria to fight it. If we don't stop taking antibiotics for common infections that could be easily be treated with regular medication the antibiotics are going to be useless. Just like the fight against the global warming and climate change, we need to take those same small steps to fight for antibiotics against the infection causing bacteria.\"],\n",
       "       [2, '4-0',\n",
       "        'The article was about humans living longer over time due to the development of antibiotics to fight bacterial infections. The article says antibiotics are being overused when there are other medications to fight infection and, therefore, the antibiotics are growing less effective and we need to fight to combat their overuse when unneeded.'],\n",
       "       [3, '4-0',\n",
       "        'The article was about how antibiotics are growing resistant to our immune systems and we need to use other options to help fight off infections. '],\n",
       "       [4, '4-0',\n",
       "        \"There is no way I can reconstruct an article based on a single sentence summary of it as presented on the previous page. I understand it was about antibiotic resistant infections or something like that, but I have almost no useful knowledge of the article itself. Who wrote it, what experts they spoke to, when it was written, anything that would enable me to do more than repeat the summary as I have just done is completely missing. This is wholly absurd and frankly a waste of everyone's time. I hope you're happy, because I'm not.\"],\n",
       "       [5, '4-0',\n",
       "        'I cannot reconstruct the original article with the given information, I can only reiterate that the previous participant complained about not being able to summarize the article.'],\n",
       "       [6, '4-0',\n",
       "        'I cannot duplicate the original article, but can only recite what I remember.   '],\n",
       "       [1, '44-1',\n",
       "        'Antibiotics such as penicillin have saved many lives since they have been discovered. Infections that were once a death sentence were able to be cured. But over time, bacteria has developed resistance to these drugs, and once again, infections are becoming more dangerous. The drugs that we used to treat these infections are becoming less effective.'],\n",
       "       [2, '44-1',\n",
       "        'Drugs like Penacilin are used to cure ilnesses that were once a death sentence.  However bacteria has become more resistent making the drugs less effective.  These medications that once worked are now not. '],\n",
       "       [3, '44-1',\n",
       "        'Penicillin is used to treat infections, but they become more resistant to the antibiotic due to misuse and overuse.'],\n",
       "       [4, '44-1',\n",
       "        'Penicillin is used to treat infections but it can become less effective with a lot of use or misuse. '],\n",
       "       [5, '44-1', 'it is effective for experiments'],\n",
       "       [6, '44-1', 'it is effective for results']], dtype=object)"
      ]
     },
     "metadata": {},
     "output_type": "display_data"
    },
    {
     "name": "stdout",
     "output_type": "stream",
     "text": [
      "846\n"
     ]
    }
   ],
   "source": [
    "# Manual inspection (+ viz) to see if bots were able to skip the bot detection. Remove when this was the case\n",
    "print(len(results))\n",
    "\n",
    "display(results.loc[results[\"rep\"].isin({\"44-1\",\"4-0\",\"0-1\"}), [\"layer_n\",\"rep\",\"story_merged\"]].values)\n",
    "results = results.loc[~results[\"rep\"].isin({\"44-1\",\"4-0\",\"0-1\"})]\n",
    "print(len(results))"
   ]
  },
  {
   "cell_type": "code",
   "execution_count": 9,
   "id": "d44ba758-0ffc-416a-820a-cd2e69b0b9e7",
   "metadata": {},
   "outputs": [],
   "source": [
    "# Save to use in next analysis\n",
    "results.to_csv(f'{path_data_files}/data_final/cleaned_combined_data.csv')"
   ]
  },
  {
   "cell_type": "code",
   "execution_count": 10,
   "id": "a1018e95-1409-4065-91bf-fe6d189b0d7c",
   "metadata": {},
   "outputs": [
    {
     "data": {
      "text/html": [
       "<div>\n",
       "<style scoped>\n",
       "    .dataframe tbody tr th:only-of-type {\n",
       "        vertical-align: middle;\n",
       "    }\n",
       "\n",
       "    .dataframe tbody tr th {\n",
       "        vertical-align: top;\n",
       "    }\n",
       "\n",
       "    .dataframe thead th {\n",
       "        text-align: right;\n",
       "    }\n",
       "</style>\n",
       "<table border=\"1\" class=\"dataframe\">\n",
       "  <thead>\n",
       "    <tr style=\"text-align: right;\">\n",
       "      <th></th>\n",
       "      <th>layer_n</th>\n",
       "      <th>rep</th>\n",
       "      <th>story1</th>\n",
       "      <th>story2</th>\n",
       "      <th>story3</th>\n",
       "      <th>story_merged</th>\n",
       "      <th>condition</th>\n",
       "    </tr>\n",
       "  </thead>\n",
       "  <tbody>\n",
       "    <tr>\n",
       "      <th>0</th>\n",
       "      <td>1</td>\n",
       "      <td>1</td>\n",
       "      <td>People didn't use to die of heart disease and ...</td>\n",
       "      <td>People didn't use to die of heart disease and ...</td>\n",
       "      <td>People didn't use to die of heart disease and ...</td>\n",
       "      <td>People didn't use to die of heart disease and ...</td>\n",
       "      <td>Network</td>\n",
       "    </tr>\n",
       "    <tr>\n",
       "      <th>1</th>\n",
       "      <td>1</td>\n",
       "      <td>1</td>\n",
       "      <td>People didn't use to die or heart disease or c...</td>\n",
       "      <td>People didn't use to die or heart disease or c...</td>\n",
       "      <td>People didn't use to die or heart disease or c...</td>\n",
       "      <td>People didn't use to die or heart disease or c...</td>\n",
       "      <td>Network</td>\n",
       "    </tr>\n",
       "    <tr>\n",
       "      <th>2</th>\n",
       "      <td>1</td>\n",
       "      <td>1</td>\n",
       "      <td>Alexander Fleming discovered penicillin in 192...</td>\n",
       "      <td>Alexander Fleming discovered penicillin in 192...</td>\n",
       "      <td>Alexander Fleming discovered penicillin in 192...</td>\n",
       "      <td>Alexander Fleming discovered penicillin in 192...</td>\n",
       "      <td>Network</td>\n",
       "    </tr>\n",
       "    <tr>\n",
       "      <th>3</th>\n",
       "      <td>2</td>\n",
       "      <td>1</td>\n",
       "      <td>People didn't use to die of heart disease and ...</td>\n",
       "      <td>People didn't use to die or heart disease or c...</td>\n",
       "      <td>Alexander Fleming discovered penicillin in 192...</td>\n",
       "      <td>Before the discovery of lifesaving antibiotics...</td>\n",
       "      <td>Network</td>\n",
       "    </tr>\n",
       "    <tr>\n",
       "      <th>4</th>\n",
       "      <td>2</td>\n",
       "      <td>1</td>\n",
       "      <td>People didn't use to die of heart disease and ...</td>\n",
       "      <td>People didn't use to die or heart disease or c...</td>\n",
       "      <td>Alexander Fleming discovered penicillin in 192...</td>\n",
       "      <td>People didn't used to die of cancer or heart d...</td>\n",
       "      <td>Network</td>\n",
       "    </tr>\n",
       "  </tbody>\n",
       "</table>\n",
       "</div>"
      ],
      "text/plain": [
       "   layer_n rep                                             story1  \\\n",
       "0        1   1  People didn't use to die of heart disease and ...   \n",
       "1        1   1  People didn't use to die or heart disease or c...   \n",
       "2        1   1  Alexander Fleming discovered penicillin in 192...   \n",
       "3        2   1  People didn't use to die of heart disease and ...   \n",
       "4        2   1  People didn't use to die of heart disease and ...   \n",
       "\n",
       "                                              story2  \\\n",
       "0  People didn't use to die of heart disease and ...   \n",
       "1  People didn't use to die or heart disease or c...   \n",
       "2  Alexander Fleming discovered penicillin in 192...   \n",
       "3  People didn't use to die or heart disease or c...   \n",
       "4  People didn't use to die or heart disease or c...   \n",
       "\n",
       "                                              story3  \\\n",
       "0  People didn't use to die of heart disease and ...   \n",
       "1  People didn't use to die or heart disease or c...   \n",
       "2  Alexander Fleming discovered penicillin in 192...   \n",
       "3  Alexander Fleming discovered penicillin in 192...   \n",
       "4  Alexander Fleming discovered penicillin in 192...   \n",
       "\n",
       "                                        story_merged condition  \n",
       "0  People didn't use to die of heart disease and ...   Network  \n",
       "1  People didn't use to die or heart disease or c...   Network  \n",
       "2  Alexander Fleming discovered penicillin in 192...   Network  \n",
       "3  Before the discovery of lifesaving antibiotics...   Network  \n",
       "4  People didn't used to die of cancer or heart d...   Network  "
      ]
     },
     "execution_count": 10,
     "metadata": {},
     "output_type": "execute_result"
    }
   ],
   "source": [
    "results.head()"
   ]
  },
  {
   "cell_type": "markdown",
   "id": "73906106-4d1f-4184-96bc-527bf9eaedc6",
   "metadata": {},
   "source": [
    "# Create text embeddings for each text"
   ]
  },
  {
   "cell_type": "code",
   "execution_count": null,
   "id": "f6b2da8a-4ec0-42ca-8e49-b8536dc98303",
   "metadata": {},
   "outputs": [],
   "source": [
    "emb = create_embeddings(results, transformer_model=transformer_model, path=f\"{path_text_embeddings}/story_embeddings\")\n",
    "project_embeddings(emb, path=f\"{path_text_embeddings}/X_story_embedded_\")"
   ]
  },
  {
   "cell_type": "code",
   "execution_count": 4,
   "id": "7eb1fc6e-058f-4c67-9749-3b78b8997706",
   "metadata": {},
   "outputs": [],
   "source": []
  },
  {
   "cell_type": "markdown",
   "id": "6c8f85dc-15bd-4ac9-a4a2-eaad06f5393e",
   "metadata": {},
   "source": [
    "# Create data for R"
   ]
  },
  {
   "cell_type": "code",
   "execution_count": 12,
   "id": "f7fed6ba-ffcd-4c6e-8aba-8d819b73a36c",
   "metadata": {},
   "outputs": [
    {
     "data": {
      "text/html": [
       "<div>\n",
       "<style scoped>\n",
       "    .dataframe tbody tr th:only-of-type {\n",
       "        vertical-align: middle;\n",
       "    }\n",
       "\n",
       "    .dataframe tbody tr th {\n",
       "        vertical-align: top;\n",
       "    }\n",
       "\n",
       "    .dataframe thead th {\n",
       "        text-align: right;\n",
       "    }\n",
       "</style>\n",
       "<table border=\"1\" class=\"dataframe\">\n",
       "  <thead>\n",
       "    <tr style=\"text-align: right;\">\n",
       "      <th></th>\n",
       "      <th>word</th>\n",
       "      <th>number_observed</th>\n",
       "      <th>number_stories_observed</th>\n",
       "      <th>transmitted</th>\n",
       "      <th>number_words_read</th>\n",
       "      <th>condition</th>\n",
       "      <th>layer_n</th>\n",
       "      <th>rep</th>\n",
       "    </tr>\n",
       "  </thead>\n",
       "  <tbody>\n",
       "    <tr>\n",
       "      <th>0</th>\n",
       "      <td>peopl</td>\n",
       "      <td>1.0</td>\n",
       "      <td>1.0</td>\n",
       "      <td>1</td>\n",
       "      <td>50.0</td>\n",
       "      <td>Chain</td>\n",
       "      <td>1</td>\n",
       "      <td>1</td>\n",
       "    </tr>\n",
       "    <tr>\n",
       "      <th>1</th>\n",
       "      <td>use</td>\n",
       "      <td>1.0</td>\n",
       "      <td>1.0</td>\n",
       "      <td>1</td>\n",
       "      <td>50.0</td>\n",
       "      <td>Chain</td>\n",
       "      <td>1</td>\n",
       "      <td>1</td>\n",
       "    </tr>\n",
       "    <tr>\n",
       "      <th>2</th>\n",
       "      <td>die</td>\n",
       "      <td>3.0</td>\n",
       "      <td>1.0</td>\n",
       "      <td>1</td>\n",
       "      <td>50.0</td>\n",
       "      <td>Chain</td>\n",
       "      <td>1</td>\n",
       "      <td>1</td>\n",
       "    </tr>\n",
       "    <tr>\n",
       "      <th>3</th>\n",
       "      <td>heart</td>\n",
       "      <td>1.0</td>\n",
       "      <td>1.0</td>\n",
       "      <td>1</td>\n",
       "      <td>50.0</td>\n",
       "      <td>Chain</td>\n",
       "      <td>1</td>\n",
       "      <td>1</td>\n",
       "    </tr>\n",
       "    <tr>\n",
       "      <th>4</th>\n",
       "      <td>diseas</td>\n",
       "      <td>1.0</td>\n",
       "      <td>1.0</td>\n",
       "      <td>1</td>\n",
       "      <td>50.0</td>\n",
       "      <td>Chain</td>\n",
       "      <td>1</td>\n",
       "      <td>1</td>\n",
       "    </tr>\n",
       "  </tbody>\n",
       "</table>\n",
       "</div>"
      ],
      "text/plain": [
       "     word  number_observed  number_stories_observed  transmitted  \\\n",
       "0   peopl              1.0                      1.0            1   \n",
       "1     use              1.0                      1.0            1   \n",
       "2     die              3.0                      1.0            1   \n",
       "3   heart              1.0                      1.0            1   \n",
       "4  diseas              1.0                      1.0            1   \n",
       "\n",
       "   number_words_read condition  layer_n rep  \n",
       "0               50.0     Chain        1   1  \n",
       "1               50.0     Chain        1   1  \n",
       "2               50.0     Chain        1   1  \n",
       "3               50.0     Chain        1   1  \n",
       "4               50.0     Chain        1   1  "
      ]
     },
     "execution_count": 12,
     "metadata": {},
     "output_type": "execute_result"
    }
   ],
   "source": [
    "# Create dataframe to calculate frequencies\n",
    "\n",
    "# original story as set of words (stemmed)\n",
    "set_story_original = set(story2set(story_original, stop_words=eng_stopwords))\n",
    "set_story_original = set([ps.stem(_) for _ in set_story_original])\n",
    "\n",
    "# create sets and stem words of the transmitted stories\n",
    "results_prob = results[[\"story1\", \"story2\", \"story3\", \"story_merged\",\"layer_n\",\"rep\",\"condition\"]]\n",
    "\n",
    "for s in [\"story1\", \"story2\", \"story3\", \"story_merged\"]:\n",
    "    results_prob[s] = results_prob[s].apply(story2set,create_set=False,stop_words=eng_stopwords)\n",
    "    results_prob[s] = results_prob[s].apply(lambda x: [ps.stem(_) for _ in x])\n",
    "    results_prob[s] = results_prob[s].apply(lambda x: [_ for _ in x if _ in set_story_original])    \n",
    "    \n",
    "    \n",
    "# tidy text structure (one word|replicate|condition per row)\n",
    "all_persons = []\n",
    "\n",
    "for i,row in results_prob.iterrows():\n",
    "    stories = list((row[\"story1\"])) + list((row[\"story2\"])) + list((row[\"story3\"]))\n",
    "    stories = Counter(stories)\n",
    "    if len(stories) == 0:\n",
    "        continue\n",
    "    person = pd.DataFrame.from_dict(stories, orient=\"index\").reset_index()\n",
    "    person.columns = [\"word\", \"number_observed\"]\n",
    "    \n",
    "    stories = list(set(row[\"story1\"])) + list(set(row[\"story2\"])) + list(set(row[\"story3\"]))\n",
    "    len_stories = len(row[\"story1\"]) + len(row[\"story2\"]) + len(row[\"story3\"])\n",
    "    if (row[\"condition\"] == \"Chain\") or (row[\"layer_n\"]==1):\n",
    "        len_stories /= 3\n",
    "    stories = Counter(stories)\n",
    "    if len(stories) == 0:\n",
    "        continue\n",
    "    person1 = pd.DataFrame.from_dict(stories, orient=\"index\").reset_index()\n",
    "    person1.columns = [\"word\", \"number_stories_observed\"]\n",
    "    person = pd.merge(person, person1)\n",
    "    \n",
    "    person[\"transmitted\"] = person[\"word\"].isin(set(row[\"story_merged\"]))\n",
    "    person[\"number_words_read\"] = len_stories\n",
    "    person[\"condition\"] = row[\"condition\"]\n",
    "    person[\"layer_n\"] = row[\"layer_n\"]\n",
    "    person[\"rep\"] = row[\"rep\"]\n",
    "    \n",
    "    all_persons.append(person)\n",
    "\n",
    "\n",
    "all_persons = pd.concat(all_persons)\n",
    "all_persons[\"transmitted\"] = all_persons[\"transmitted\"].astype(int)\n",
    "all_persons.loc[(all_persons[\"condition\"]==\"Network\") & (all_persons[\"layer_n\"]==1), \"condition\"] = \"Chain\"\n",
    "all_persons.loc[:, [\"number_observed\", \"number_stories_observed\"]] /= 3 #make mean, and fraction fo stories\n",
    "all_persons.head()"
   ]
  },
  {
   "cell_type": "code",
   "execution_count": 13,
   "id": "8d3f1e9d-ece6-4cd8-88aa-1c8e634fad42",
   "metadata": {},
   "outputs": [],
   "source": [
    "# Save to use in next analysis\n",
    "all_persons.to_csv(f'{path_data_files}/data_processing/transmissions_word_level.csv')"
   ]
  },
  {
   "cell_type": "code",
   "execution_count": null,
   "id": "7af57612-366e-4015-a074-17f7653bf975",
   "metadata": {},
   "outputs": [],
   "source": []
  },
  {
   "cell_type": "code",
   "execution_count": null,
   "id": "5cd0ba94-0853-4acc-8e37-67e139d3ae5f",
   "metadata": {},
   "outputs": [],
   "source": []
  },
  {
   "cell_type": "code",
   "execution_count": null,
   "id": "bc3e68b0-8900-4e79-947c-23267b2075b8",
   "metadata": {},
   "outputs": [],
   "source": []
  }
 ],
 "metadata": {
  "kernelspec": {
   "display_name": "Python [conda env:rumor]",
   "language": "python",
   "name": "conda-env-rumor-py"
  },
  "language_info": {
   "codemirror_mode": {
    "name": "ipython",
    "version": 3
   },
   "file_extension": ".py",
   "mimetype": "text/x-python",
   "name": "python",
   "nbconvert_exporter": "python",
   "pygments_lexer": "ipython3",
   "version": "3.9.9"
  }
 },
 "nbformat": 4,
 "nbformat_minor": 5
}
